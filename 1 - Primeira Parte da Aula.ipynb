{
 "cells": [
  {
   "cell_type": "markdown",
   "metadata": {},
   "source": [
    "# Programação: do print(“Olá, Mundo!”) até a tabulação de dados\n",
    "## 5a Semana de Inovação\n",
    "\n",
    "## Sobre o apresentador\n",
    "- Engenheiro de Software formado pela Universidade de Brasília com passagens pela Columbia University e pela University of Alabama;\n",
    "- Servidor público há quase 10 anos, iniciei minha carreira trabalhando com políticas de enfrentamento à violência doméstica e me encontrei na burocracia, hoje estou na Secretaria de Estado de Ciência, Tecnologia e Inovação do Distrito Federal;\n",
    "- Estou bastante preocupado com o futuro do funcionalismo público e com as competências que precisamos desenvolver entre nós, servidores;\n",
    "- **Odeio perder tempo com tarefas que poderiam ser feitas por um computador e/ou automatizadas.**\n",
    "\n",
    "## O que é **programação**?\n",
    "- Uma forma de ensinar o computador a trabalhar para nós, infelizmente eles não são tão inteligentes e proativos quanto dizem ser.\n",
    "![Alt Text](https://support.content.office.net/en-us/media/1dc81252-1121-4513-8b88-c9c24b4b04c2.jpg)\n",
    "![Alt Text](https://media.giphy.com/media/MM0Jrc8BHKx3y/giphy.gif)\n",
    "\n",
    "## Eis que vos apresento o Python!\n",
    "![Alt Text](https://miro.medium.com/max/2784/1*JV6Byn1kvGuGTijXUd7pNw.jpeg)\n",
    "\n"
   ]
  },
  {
   "cell_type": "markdown",
   "metadata": {},
   "source": [
    "## Antes de começarmos, é importante aprendermos algumas funções básicas da linguagem\n",
    "### Para imprimir mensagens na tela temos o print()"
   ]
  },
  {
   "cell_type": "code",
   "execution_count": 1,
   "metadata": {},
   "outputs": [
    {
     "name": "stdout",
     "output_type": "stream",
     "text": [
      "Hello, World!\n"
     ]
    }
   ],
   "source": [
    "print(\"Hello, World!\")"
   ]
  },
  {
   "cell_type": "markdown",
   "metadata": {},
   "source": [
    "### Para armazenar um valor qualquer, temos as chamadas variáveis que podem ter nomes quaisquer"
   ]
  },
  {
   "cell_type": "code",
   "execution_count": 25,
   "metadata": {},
   "outputs": [
    {
     "name": "stdout",
     "output_type": "stream",
     "text": [
      "Eduardo Castro\n"
     ]
    }
   ],
   "source": [
    "variavel = \"Eduardo Castro\"\n",
    "print(variavel)"
   ]
  },
  {
   "cell_type": "markdown",
   "metadata": {},
   "source": [
    "### Se quisermos armazenar vários valores, podemos utilizar o que chamamos de lista"
   ]
  },
  {
   "cell_type": "code",
   "execution_count": 4,
   "metadata": {},
   "outputs": [
    {
     "name": "stdout",
     "output_type": "stream",
     "text": [
      "['Eduardo', 'Juliana', 'Gordinho', 'Pretinho', 'Toy', 'Zoe', 'Ziggy']\n"
     ]
    }
   ],
   "source": [
    "lista = []\n",
    "lista = [\"Eduardo\", \"Juliana\", \"Gordinho\", \"Pretinho\", \"Toy\", \"Zoe\", \"Ziggy\"]\n",
    "print(lista)"
   ]
  },
  {
   "cell_type": "code",
   "execution_count": 6,
   "metadata": {},
   "outputs": [
    {
     "name": "stdout",
     "output_type": "stream",
     "text": [
      "Eduardo\n"
     ]
    }
   ],
   "source": [
    "print(lista[0])"
   ]
  },
  {
   "cell_type": "code",
   "execution_count": 7,
   "metadata": {},
   "outputs": [
    {
     "name": "stdout",
     "output_type": "stream",
     "text": [
      "['Eduardo', 'Juliana', 'Magrinho', 'Pretinho', 'Toy', 'Zoe', 'Ziggy']\n"
     ]
    }
   ],
   "source": [
    "lista[2] = \"Magrinho\"\n",
    "print(lista)"
   ]
  },
  {
   "cell_type": "code",
   "execution_count": 8,
   "metadata": {},
   "outputs": [
    {
     "name": "stdout",
     "output_type": "stream",
     "text": [
      "['Pretinho', 'Toy', 'Zoe', 'Ziggy']\n",
      "['Eduardo', 'Juliana', 'Magrinho']\n"
     ]
    }
   ],
   "source": [
    "print(lista[3:])\n",
    "print(lista[:3])"
   ]
  },
  {
   "cell_type": "code",
   "execution_count": 11,
   "metadata": {},
   "outputs": [
    {
     "name": "stdout",
     "output_type": "stream",
     "text": [
      "Eduardo Castro\n",
      "E\n",
      "ardo Castro\n",
      "Eduar\n"
     ]
    }
   ],
   "source": [
    "print(variavel)\n",
    "print(variavel[0])\n",
    "print(variavel[3:])\n",
    "print(variavel[:5])"
   ]
  },
  {
   "cell_type": "markdown",
   "metadata": {},
   "source": [
    "## Também é importante entendermos que todas essas variáveis em Python na verdade são conhecidos como **objetos**, e cada objeto possui uma **classe** que por sua vez possui diversos **métodos** "
   ]
  },
  {
   "cell_type": "code",
   "execution_count": 18,
   "metadata": {},
   "outputs": [
    {
     "name": "stdout",
     "output_type": "stream",
     "text": [
      "<class 'list'>\n",
      "<class 'str'>\n",
      "<class 'int'>\n",
      "<built-in method reverse of list object at 0x103d127d0>\n"
     ]
    }
   ],
   "source": [
    "print(type(lista))\n",
    "print(type(variavel))\n",
    "\n",
    "variavelTeste2 = \"5\"\n",
    "variavelTeste2 = 5\n",
    "\n",
    "print(type(variavelTeste2))\n",
    "\n",
    "print(lista.reverse)"
   ]
  },
  {
   "cell_type": "code",
   "execution_count": 17,
   "metadata": {},
   "outputs": [
    {
     "name": "stdout",
     "output_type": "stream",
     "text": [
      "['__add__', '__class__', '__contains__', '__delattr__', '__delitem__', '__dir__', '__doc__', '__eq__', '__format__', '__ge__', '__getattribute__', '__getitem__', '__gt__', '__hash__', '__iadd__', '__imul__', '__init__', '__init_subclass__', '__iter__', '__le__', '__len__', '__lt__', '__mul__', '__ne__', '__new__', '__reduce__', '__reduce_ex__', '__repr__', '__reversed__', '__rmul__', '__setattr__', '__setitem__', '__sizeof__', '__str__', '__subclasshook__', 'append', 'clear', 'copy', 'count', 'extend', 'index', 'insert', 'pop', 'remove', 'reverse', 'sort']\n",
      "\n",
      "\n",
      "\n",
      "['__add__', '__class__', '__contains__', '__delattr__', '__dir__', '__doc__', '__eq__', '__format__', '__ge__', '__getattribute__', '__getitem__', '__getnewargs__', '__gt__', '__hash__', '__init__', '__init_subclass__', '__iter__', '__le__', '__len__', '__lt__', '__mod__', '__mul__', '__ne__', '__new__', '__reduce__', '__reduce_ex__', '__repr__', '__rmod__', '__rmul__', '__setattr__', '__sizeof__', '__str__', '__subclasshook__', 'capitalize', 'casefold', 'center', 'count', 'encode', 'endswith', 'expandtabs', 'find', 'format', 'format_map', 'index', 'isalnum', 'isalpha', 'isascii', 'isdecimal', 'isdigit', 'isidentifier', 'islower', 'isnumeric', 'isprintable', 'isspace', 'istitle', 'isupper', 'join', 'ljust', 'lower', 'lstrip', 'maketrans', 'partition', 'replace', 'rfind', 'rindex', 'rjust', 'rpartition', 'rsplit', 'rstrip', 'split', 'splitlines', 'startswith', 'strip', 'swapcase', 'title', 'translate', 'upper', 'zfill']\n"
     ]
    }
   ],
   "source": [
    "print(dir(lista))\n",
    "print(\"\\n\\n\")\n",
    "print(dir(variavel))"
   ]
  },
  {
   "cell_type": "code",
   "execution_count": 19,
   "metadata": {},
   "outputs": [
    {
     "name": "stdout",
     "output_type": "stream",
     "text": [
      "['Eduardo', 'Juliana', 'Magrinho', 'Pretinho', 'Toy', 'Zoe', 'Ziggy', 'Garfield']\n"
     ]
    }
   ],
   "source": [
    "lista.append(\"Garfield\")\n",
    "print(lista)"
   ]
  },
  {
   "cell_type": "code",
   "execution_count": 20,
   "metadata": {},
   "outputs": [
    {
     "name": "stdout",
     "output_type": "stream",
     "text": [
      "['Eduardo', 'Juliana', 'Magrinho', 'Pretinho', 'Toy', 'Zoe', 'Ziggy']\n"
     ]
    }
   ],
   "source": [
    "lista.pop()\n",
    "print(lista)"
   ]
  },
  {
   "cell_type": "code",
   "execution_count": 26,
   "metadata": {},
   "outputs": [
    {
     "name": "stdout",
     "output_type": "stream",
     "text": [
      "Castro\n",
      "Eduardo Castro\n"
     ]
    }
   ],
   "source": [
    "nova_variavel = variavel.split()\n",
    "print(nova_variavel[1])\n",
    "print(variavel)"
   ]
  },
  {
   "cell_type": "code",
   "execution_count": 27,
   "metadata": {},
   "outputs": [
    {
     "name": "stdout",
     "output_type": "stream",
     "text": [
      "Castro\n",
      "\n"
     ]
    }
   ],
   "source": [
    "variavel = variavel.split()\n",
    "print(variavel[1])\n",
    "print()"
   ]
  },
  {
   "cell_type": "code",
   "execution_count": 28,
   "metadata": {},
   "outputs": [
    {
     "name": "stdout",
     "output_type": "stream",
     "text": [
      "10\n",
      "100\n",
      "1000\n"
     ]
    }
   ],
   "source": [
    "print(5+5)\n",
    "print(10**2)\n",
    "a = 10\n",
    "b = 3\n",
    "c = a ** b\n",
    "print(c)"
   ]
  },
  {
   "cell_type": "code",
   "execution_count": 29,
   "metadata": {},
   "outputs": [
    {
     "name": "stdout",
     "output_type": "stream",
     "text": [
      "5 + 5 = 10\n",
      "10 ** 2 = 100\n",
      "a / b = 1000.0\n"
     ]
    }
   ],
   "source": [
    "print(\"5 + 5 = \" + str(5+5))\n",
    "print(\"10 ** 2 = \" + str(10**2))\n",
    "a = 10000\n",
    "b = 10\n",
    "c = a/b\n",
    "print(\"a / b = \" + str(c))"
   ]
  },
  {
   "cell_type": "code",
   "execution_count": 30,
   "metadata": {},
   "outputs": [
    {
     "name": "stdout",
     "output_type": "stream",
     "text": [
      "<class 'int'>\n",
      "<class 'float'>\n"
     ]
    }
   ],
   "source": [
    "print(type(10**2))\n",
    "print(type(c))"
   ]
  },
  {
   "cell_type": "code",
   "execution_count": 31,
   "metadata": {},
   "outputs": [
    {
     "name": "stdout",
     "output_type": "stream",
     "text": [
      "1\n",
      "2\n",
      "3\n",
      "4\n",
      "5\n",
      "6\n",
      "7\n",
      "8\n",
      "9\n"
     ]
    }
   ],
   "source": [
    "for iterador in range(1,10):\n",
    "    print(iterador)"
   ]
  },
  {
   "cell_type": "code",
   "execution_count": 33,
   "metadata": {},
   "outputs": [
    {
     "name": "stdout",
     "output_type": "stream",
     "text": [
      "1\n",
      "3\n",
      "6\n",
      "10\n",
      "15\n",
      "21\n",
      "28\n",
      "36\n",
      "45\n",
      "45\n"
     ]
    }
   ],
   "source": [
    "soma = 0\n",
    "for iterador in range(1,10):\n",
    "    soma = soma + iterador\n",
    "    print(soma)\n",
    "print(soma)"
   ]
  },
  {
   "cell_type": "code",
   "execution_count": 34,
   "metadata": {},
   "outputs": [
    {
     "name": "stdout",
     "output_type": "stream",
     "text": [
      "1\n",
      "3\n",
      "6\n",
      "10\n",
      "15\n",
      "21\n",
      "28\n",
      "36\n",
      "45\n"
     ]
    }
   ],
   "source": [
    "soma = 0\n",
    "for iterador in range(1,10):\n",
    "    soma += iterador\n",
    "    print(soma)"
   ]
  },
  {
   "cell_type": "code",
   "execution_count": 35,
   "metadata": {},
   "outputs": [
    {
     "name": "stdout",
     "output_type": "stream",
     "text": [
      "49995000\n"
     ]
    }
   ],
   "source": [
    "soma = 0\n",
    "for iterador in range(1,10000):\n",
    "    soma += iterador\n",
    "print(soma)"
   ]
  },
  {
   "cell_type": "code",
   "execution_count": 36,
   "metadata": {},
   "outputs": [
    {
     "name": "stdout",
     "output_type": "stream",
     "text": [
      "['Eduardo', 'Juliana', 'Magrinho', 'Pretinho', 'Toy', 'Zoe', 'Ziggy']\n"
     ]
    }
   ],
   "source": [
    "print(lista)\n"
   ]
  },
  {
   "cell_type": "code",
   "execution_count": 38,
   "metadata": {},
   "outputs": [
    {
     "name": "stdout",
     "output_type": "stream",
     "text": [
      "<class 'str'>\n",
      "<class 'str'>\n",
      "<class 'str'>\n",
      "<class 'str'>\n",
      "<class 'str'>\n",
      "<class 'str'>\n",
      "<class 'str'>\n"
     ]
    }
   ],
   "source": [
    "for item in lista:\n",
    "    print(type(item))"
   ]
  },
  {
   "cell_type": "code",
   "execution_count": null,
   "metadata": {},
   "outputs": [],
   "source": []
  }
 ],
 "metadata": {
  "kernelspec": {
   "display_name": "Python 3",
   "language": "python",
   "name": "python3"
  },
  "language_info": {
   "codemirror_mode": {
    "name": "ipython",
    "version": 3
   },
   "file_extension": ".py",
   "mimetype": "text/x-python",
   "name": "python",
   "nbconvert_exporter": "python",
   "pygments_lexer": "ipython3",
   "version": "3.7.4"
  }
 },
 "nbformat": 4,
 "nbformat_minor": 4
}
