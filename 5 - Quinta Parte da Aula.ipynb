{
 "cells": [
  {
   "cell_type": "markdown",
   "metadata": {},
   "source": [
    "## Como continuar aprendendo?\n",
    "- Python Fluente: Programação Clara, Concisa e Eficaz, Luciano Ramalho: https://www.amazon.com.br/Python-Fluente-Programa%C3%A7%C3%A3o-Concisa-Eficaz/dp/857522462X/ref=sr_1_1?__mk_pt_BR=%C3%85M%C3%85%C5%BD%C3%95%C3%91&keywords=python&qid=1573050408&sr=8-1\n",
    "- Learn Python the Hard Way: A Very Simple Introduction to the Terrifyingly Beautiful World of Computers and Code, Zed Shaw: https://www.amazon.com.br/Learn-Python-Hard-Way-Introduction-ebook/dp/B00FGUS948\n",
    "- Automatize Tarefas Maçantes com Python: Programação Prática Para Verdadeiros Iniciantes, Al Sweigart: https://www.amazon.com.br/Automatize-Tarefas-Ma%C3%A7antes-com-Python/dp/8575224468/ref=sr_1_1?__mk_pt_BR=%C3%85M%C3%85%C5%BD%C3%95%C3%91&crid=2Z3RPY8PI451E&keywords=automate+boring+stuff+with+python&qid=1573050812&sprefix=automate+boring+%2Cdigital-text%2C287&sr=8-1\n",
    "- www.datacamp.com\n",
    "- www.pluralsight.com\n",
    "- www.alura.com.br\n",
    "- www.edx.org\n",
    "- www.coursera.org\n",
    "\n",
    "## Dúvidas?\n",
    "\n",
    "## Email: \n",
    "### eduardocastro91@gmail.com\n",
    "### eduardo.castro@secti.df.gov.br\n",
    "\n",
    "## Linkedin: \n",
    "### https://www.linkedin.com/in/eduardocastro91\n",
    "\n",
    "## O código dessa aula está disponível em:\n",
    "### https://github.com/educastro/aula_semanadeinovacao\n",
    "\n",
    "## Muito obrigado!"
   ]
  },
  {
   "cell_type": "code",
   "execution_count": null,
   "metadata": {},
   "outputs": [],
   "source": []
  },
  {
   "cell_type": "code",
   "execution_count": null,
   "metadata": {},
   "outputs": [],
   "source": []
  }
 ],
 "metadata": {
  "kernelspec": {
   "display_name": "Python 3",
   "language": "python",
   "name": "python3"
  },
  "language_info": {
   "codemirror_mode": {
    "name": "ipython",
    "version": 3
   },
   "file_extension": ".py",
   "mimetype": "text/x-python",
   "name": "python",
   "nbconvert_exporter": "python",
   "pygments_lexer": "ipython3",
   "version": "3.7.4"
  }
 },
 "nbformat": 4,
 "nbformat_minor": 4
}
